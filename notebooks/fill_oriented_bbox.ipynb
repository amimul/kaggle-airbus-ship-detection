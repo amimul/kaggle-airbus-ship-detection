{
 "cells": [
  {
   "cell_type": "markdown",
   "metadata": {},
   "source": [
    "# Bounding box using numpy"
   ]
  },
  {
   "cell_type": "code",
   "execution_count": 1,
   "metadata": {},
   "outputs": [],
   "source": [
    "import numpy as np\n",
    "from skimage import transform\n",
    "import matplotlib.pyplot as plt\n",
    "import cv2"
   ]
  },
  {
   "cell_type": "code",
   "execution_count": 2,
   "metadata": {},
   "outputs": [],
   "source": [
    "def fill_oriented_bbox(img, color=1):\n",
    "    _, contours, _ = cv2.findContours(img, cv2.RETR_LIST, cv2.CHAIN_APPROX_SIMPLE)\n",
    "    obbox = np.zeros_like(img, dtype=np.uint8)\n",
    "    for cnt in contours:\n",
    "        rect = cv2.minAreaRect(cnt)\n",
    "        box = cv2.boxPoints(rect)\n",
    "        box = np.int0(box)\n",
    "        cv2.fillPoly(obbox, [box], color)\n",
    "    return obbox"
   ]
  },
  {
   "cell_type": "code",
   "execution_count": 3,
   "metadata": {},
   "outputs": [
    {
     "name": "stdout",
     "output_type": "stream",
     "text": [
      "Test image:\n",
      " [[0 0 0 0 0 0 0 0 0 0 0 0 0 0 0 0]\n",
      " [0 0 0 0 0 0 0 0 0 0 0 0 0 0 0 0]\n",
      " [0 0 0 0 0 0 0 0 0 0 0 0 0 0 0 0]\n",
      " [0 0 0 0 0 0 0 0 0 0 0 0 0 0 0 0]\n",
      " [0 0 0 0 1 1 1 1 1 1 1 1 0 0 0 0]\n",
      " [0 0 0 0 1 1 1 1 1 1 1 1 0 0 0 0]\n",
      " [0 0 0 0 1 1 1 1 1 1 1 1 0 0 0 0]\n",
      " [0 0 0 0 1 1 1 1 1 1 1 1 0 0 0 0]\n",
      " [0 0 0 0 1 1 1 1 1 1 1 1 0 0 0 0]\n",
      " [0 0 0 0 1 1 1 1 1 1 1 1 0 0 0 0]\n",
      " [0 0 0 0 1 1 1 1 1 1 1 1 0 0 0 0]\n",
      " [0 0 0 0 1 1 1 1 1 1 1 1 0 0 0 0]\n",
      " [0 0 0 0 0 0 0 0 0 0 0 0 0 0 0 0]\n",
      " [0 0 0 0 0 0 0 0 0 0 0 0 0 0 0 0]\n",
      " [0 0 0 0 0 0 0 0 0 0 0 0 0 0 0 0]\n",
      " [0 0 0 0 0 0 0 0 0 0 0 0 0 0 0 0]]\n",
      "OBBox:\n",
      " [[0 0 0 0 0 0 0 0 0 0 0 0 0 0 0 0]\n",
      " [0 0 0 0 0 0 0 0 0 0 0 0 0 0 0 0]\n",
      " [0 0 0 0 0 0 0 0 0 0 0 0 0 0 0 0]\n",
      " [0 0 0 0 0 0 0 0 0 0 0 0 0 0 0 0]\n",
      " [0 0 0 0 1 1 1 1 1 1 1 1 0 0 0 0]\n",
      " [0 0 0 0 1 1 1 1 1 1 1 1 0 0 0 0]\n",
      " [0 0 0 0 1 1 1 1 1 1 1 1 0 0 0 0]\n",
      " [0 0 0 0 1 1 1 1 1 1 1 1 0 0 0 0]\n",
      " [0 0 0 0 1 1 1 1 1 1 1 1 0 0 0 0]\n",
      " [0 0 0 0 1 1 1 1 1 1 1 1 0 0 0 0]\n",
      " [0 0 0 0 1 1 1 1 1 1 1 1 0 0 0 0]\n",
      " [0 0 0 0 1 1 1 1 1 1 1 1 0 0 0 0]\n",
      " [0 0 0 0 0 0 0 0 0 0 0 0 0 0 0 0]\n",
      " [0 0 0 0 0 0 0 0 0 0 0 0 0 0 0 0]\n",
      " [0 0 0 0 0 0 0 0 0 0 0 0 0 0 0 0]\n",
      " [0 0 0 0 0 0 0 0 0 0 0 0 0 0 0 0]]\n"
     ]
    },
    {
     "data": {
      "text/plain": [
       "<matplotlib.image.AxesImage at 0x7f4f21682f98>"
      ]
     },
     "execution_count": 3,
     "metadata": {},
     "output_type": "execute_result"
    },
    {
     "data": {
      "image/png": "[encoded data removed]",
      "text/plain": [
       "<Figure size 432x288 with 1 Axes>"
      ]
     },
     "metadata": {
      "needs_background": "light"
     },
     "output_type": "display_data"
    }
   ],
   "source": [
    "img1 = np.zeros((16,16))\n",
    "img1[4:12,4:12] = 1\n",
    "img1 = np.uint8(transform.rotate(img1, 0, order=0))\n",
    "print(\"Test image:\\n\", img1)\n",
    "obb = fill_oriented_bbox(img1)\n",
    "print(\"OBBox:\\n\", obb)\n",
    "plt.imshow(obb)"
   ]
  },
  {
   "cell_type": "code",
   "execution_count": 4,
   "metadata": {
    "scrolled": false
   },
   "outputs": [
    {
     "name": "stdout",
     "output_type": "stream",
     "text": [
      "Test image:\n",
      " [[  0   0   0   0   0   0   0   0 255   0   0   0   0   0   0   0]\n",
      " [  0   0   0   0   0   0   0 255   0   0   0   0   0   0   0   0]\n",
      " [  0   0   0   0   0   0   0 255   0   0   0   0   0   0   0   0]\n",
      " [  0   0   0   0   0 255 255 255   0   0   0   0   0   0   0   0]\n",
      " [  0   0   0   0   0 255 255 255 255 255   0   0   0   0   0   0]\n",
      " [  0   0   0   0   0 255 255 255 255 255 255 255 255   0   0   0]\n",
      " [  0   0   0   0 255 255 255 255 255 255 255 255 255   0   0   0]\n",
      " [  0   0   0   0 255 255 255 255 255 255 255 255   0   0   0   0]\n",
      " [  0   0   0   0 255 255 255 255 255 255 255 255   0   0   0   0]\n",
      " [  0   0   0 255 255 255 255 255 255 255 255 255   0   0   0   0]\n",
      " [  0   0   0 255 255 255 255 255 255 255 255   0   0   0   0   0]\n",
      " [  0   0   0   0   0   0 255 255 255 255 255   0   0   0   0   0]\n",
      " [  0   0   0   0   0   0   0   0   0 255 255   0   0   0   0   0]\n",
      " [  0   0   0   0   0   0   0   0   0   0   0   0   0   0   0   0]\n",
      " [  0   0   0   0   0   0   0   0   0   0   0   0   0   0   0   0]\n",
      " [  0   0   0   0   0   0   0   0   0   0   0   0   0   0   0   0]]\n",
      "OBBox:\n",
      " [[0 0 0 0 0 0 1 1 1 1 0 0 0 0 0 0]\n",
      " [0 0 0 0 0 0 1 1 1 1 1 1 1 1 0 0]\n",
      " [0 0 0 0 0 1 1 1 1 1 1 1 1 1 0 0]\n",
      " [0 0 0 0 0 1 1 1 1 1 1 1 1 0 0 0]\n",
      " [0 0 0 0 1 1 1 1 1 1 1 1 1 0 0 0]\n",
      " [0 0 0 0 1 1 1 1 1 1 1 1 1 0 0 0]\n",
      " [0 0 0 1 1 1 1 1 1 1 1 1 0 0 0 0]\n",
      " [0 0 0 1 1 1 1 1 1 1 1 1 0 0 0 0]\n",
      " [0 0 1 1 1 1 1 1 1 1 1 0 0 0 0 0]\n",
      " [0 0 1 1 1 1 1 1 1 1 1 0 0 0 0 0]\n",
      " [0 0 0 0 1 1 1 1 1 1 1 0 0 0 0 0]\n",
      " [0 0 0 0 0 0 1 1 1 1 0 0 0 0 0 0]\n",
      " [0 0 0 0 0 0 0 0 1 1 0 0 0 0 0 0]\n",
      " [0 0 0 0 0 0 0 0 0 0 0 0 0 0 0 0]\n",
      " [0 0 0 0 0 0 0 0 0 0 0 0 0 0 0 0]\n",
      " [0 0 0 0 0 0 0 0 0 0 0 0 0 0 0 0]]\n"
     ]
    },
    {
     "data": {
      "text/plain": [
       "<matplotlib.image.AxesImage at 0x7f4f215ab240>"
      ]
     },
     "execution_count": 4,
     "metadata": {},
     "output_type": "execute_result"
    },
    {
     "data": {
      "image/png": "[encoded data removed]",
      "text/plain": [
       "<Figure size 432x288 with 1 Axes>"
      ]
     },
     "metadata": {
      "needs_background": "light"
     },
     "output_type": "display_data"
    }
   ],
   "source": [
    "img1 = np.zeros((16,16))\n",
    "img1[4:12,4:12] = 1.\n",
    "img1[:4, 5] = 1.\n",
    "img1 = np.uint8(transform.rotate(img1, -20, order=0) * 255)\n",
    "print(\"Test image:\\n\", img1)\n",
    "obb = fill_oriented_bbox(img1)\n",
    "print(\"OBBox:\\n\", obb)\n",
    "plt.imshow(obb)"
   ]
  },
  {
   "cell_type": "code",
   "execution_count": 6,
   "metadata": {
    "scrolled": false
   },
   "outputs": [
    {
     "name": "stdout",
     "output_type": "stream",
     "text": [
      "Test image:\n",
      " [[0 0 0 0 0 0 0 0 0 0 0 0 0 0 0 0]\n",
      " [0 0 0 0 0 0 0 0 0 0 0 0 0 0 0 0]\n",
      " [0 0 0 0 0 0 0 0 0 0 0 0 0 0 0 0]\n",
      " [0 0 0 0 0 0 0 0 0 0 0 0 0 0 0 0]\n",
      " [0 0 0 0 0 0 0 0 0 0 0 0 0 0 0 0]\n",
      " [0 0 0 0 0 0 0 0 0 0 0 0 0 0 0 0]\n",
      " [0 0 0 0 0 0 0 0 0 0 0 0 0 0 0 0]\n",
      " [0 0 0 0 0 0 0 0 0 0 0 0 0 0 0 0]\n",
      " [0 0 0 0 0 0 0 0 0 0 0 0 0 0 0 0]\n",
      " [0 0 0 0 0 0 0 0 0 0 0 0 0 0 0 0]\n",
      " [0 0 0 0 0 0 0 0 0 0 0 0 0 0 0 0]\n",
      " [0 0 0 0 0 0 0 0 0 0 0 0 0 0 0 0]\n",
      " [0 0 0 0 0 0 0 0 0 0 0 0 0 0 0 0]\n",
      " [0 0 0 0 0 0 0 0 0 0 0 0 0 0 0 0]\n",
      " [0 0 0 0 0 0 0 0 0 0 0 0 0 0 0 0]\n",
      " [0 0 0 0 0 0 0 0 0 0 0 0 0 0 0 0]]\n",
      "OBBox:\n",
      " [[0 0 0 0 0 0 0 0 0 0 0 0 0 0 0 0]\n",
      " [0 0 0 0 0 0 0 0 0 0 0 0 0 0 0 0]\n",
      " [0 0 0 0 0 0 0 0 0 0 0 0 0 0 0 0]\n",
      " [0 0 0 0 0 0 0 0 0 0 0 0 0 0 0 0]\n",
      " [0 0 0 0 0 0 0 0 0 0 0 0 0 0 0 0]\n",
      " [0 0 0 0 0 0 0 0 0 0 0 0 0 0 0 0]\n",
      " [0 0 0 0 0 0 0 0 0 0 0 0 0 0 0 0]\n",
      " [0 0 0 0 0 0 0 0 0 0 0 0 0 0 0 0]\n",
      " [0 0 0 0 0 0 0 0 0 0 0 0 0 0 0 0]\n",
      " [0 0 0 0 0 0 0 0 0 0 0 0 0 0 0 0]\n",
      " [0 0 0 0 0 0 0 0 0 0 0 0 0 0 0 0]\n",
      " [0 0 0 0 0 0 0 0 0 0 0 0 0 0 0 0]\n",
      " [0 0 0 0 0 0 0 0 0 0 0 0 0 0 0 0]\n",
      " [0 0 0 0 0 0 0 0 0 0 0 0 0 0 0 0]\n",
      " [0 0 0 0 0 0 0 0 0 0 0 0 0 0 0 0]\n",
      " [0 0 0 0 0 0 0 0 0 0 0 0 0 0 0 0]]\n"
     ]
    },
    {
     "data": {
      "text/plain": [
       "<matplotlib.image.AxesImage at 0x7f4f1fd17940>"
      ]
     },
     "execution_count": 6,
     "metadata": {},
     "output_type": "execute_result"
    },
    {
     "data": {
      "image/png": "[encoded data removed]",
      "text/plain": [
       "<Figure size 432x288 with 1 Axes>"
      ]
     },
     "metadata": {
      "needs_background": "light"
     },
     "output_type": "display_data"
    }
   ],
   "source": [
    "img1 = np.zeros((16,16), dtype=np.uint8)\n",
    "print(\"Test image:\\n\", img1)\n",
    "obb = fill_oriented_bbox(img1)\n",
    "print(\"OBBox:\\n\", obb)\n",
    "plt.imshow(obb)"
   ]
  },
  {
   "cell_type": "code",
   "execution_count": 9,
   "metadata": {},
   "outputs": [
    {
     "name": "stdout",
     "output_type": "stream",
     "text": [
      "Test image:\n",
      " [[0 0 0 0 0 0 0 0 0 0 0 0 0 0 0 0]\n",
      " [0 0 0 0 0 0 0 0 0 0 0 0 0 0 0 0]\n",
      " [0 0 0 0 0 0 0 0 0 0 0 0 0 0 0 0]\n",
      " [0 0 0 0 0 0 0 0 0 0 0 0 0 0 0 0]\n",
      " [0 0 0 0 1 1 1 0 0 0 0 0 0 0 0 0]\n",
      " [0 0 0 0 1 1 1 0 0 0 0 0 0 0 0 0]\n",
      " [0 0 0 0 1 1 1 0 0 0 0 0 0 0 0 0]\n",
      " [0 0 0 0 0 0 0 0 0 0 0 0 0 0 0 0]\n",
      " [0 0 0 0 0 0 0 0 0 0 0 0 0 0 0 0]\n",
      " [0 0 0 0 0 0 0 0 0 1 1 1 1 1 0 0]\n",
      " [0 0 0 0 0 0 0 0 0 1 1 1 1 1 0 0]\n",
      " [0 0 0 0 0 0 0 0 0 1 1 1 1 1 0 0]\n",
      " [0 0 0 0 0 0 0 0 0 1 1 1 1 1 0 0]\n",
      " [0 0 0 0 0 0 0 0 0 1 1 1 1 1 0 0]\n",
      " [0 0 0 0 0 0 0 0 0 0 0 0 0 0 0 0]\n",
      " [0 0 0 0 0 0 0 0 0 0 0 0 0 0 0 0]]\n",
      "OBBox:\n",
      " [[0 0 0 0 0 0 0 0 0 0 0 0 0 0 0 0]\n",
      " [0 0 0 0 0 0 0 0 0 0 0 0 0 0 0 0]\n",
      " [0 0 0 0 0 0 0 0 0 0 0 0 0 0 0 0]\n",
      " [0 0 0 0 0 0 0 0 0 0 0 0 0 0 0 0]\n",
      " [0 0 0 0 1 1 1 0 0 0 0 0 0 0 0 0]\n",
      " [0 0 0 0 1 1 1 0 0 0 0 0 0 0 0 0]\n",
      " [0 0 0 0 1 1 1 0 0 0 0 0 0 0 0 0]\n",
      " [0 0 0 0 0 0 0 0 0 0 0 0 0 0 0 0]\n",
      " [0 0 0 0 0 0 0 0 0 0 0 0 0 0 0 0]\n",
      " [0 0 0 0 0 0 0 0 0 1 1 1 1 1 0 0]\n",
      " [0 0 0 0 0 0 0 0 0 1 1 1 1 1 0 0]\n",
      " [0 0 0 0 0 0 0 0 0 1 1 1 1 1 0 0]\n",
      " [0 0 0 0 0 0 0 0 0 1 1 1 1 1 0 0]\n",
      " [0 0 0 0 0 0 0 0 0 1 1 1 1 1 0 0]\n",
      " [0 0 0 0 0 0 0 0 0 0 0 0 0 0 0 0]\n",
      " [0 0 0 0 0 0 0 0 0 0 0 0 0 0 0 0]]\n"
     ]
    },
    {
     "data": {
      "text/plain": [
       "<matplotlib.image.AxesImage at 0x7f4f1fc39dd8>"
      ]
     },
     "execution_count": 9,
     "metadata": {},
     "output_type": "execute_result"
    },
    {
     "data": {
      "image/png": "[encoded data removed]",
      "text/plain": [
       "<Figure size 432x288 with 1 Axes>"
      ]
     },
     "metadata": {
      "needs_background": "light"
     },
     "output_type": "display_data"
    }
   ],
   "source": [
    "img1 = np.zeros((16,16), dtype=np.uint8)\n",
    "img1[4:7, 4:7] = 1.\n",
    "img1[9:14, 9:14] = 1.\n",
    "print(\"Test image:\\n\", img1)\n",
    "obb = fill_oriented_bbox(img1)\n",
    "print(\"OBBox:\\n\", obb)\n",
    "plt.imshow(obb)"
   ]
  },
  {
   "cell_type": "code",
   "execution_count": 5,
   "metadata": {},
   "outputs": [
    {
     "name": "stdout",
     "output_type": "stream",
     "text": [
      "305 µs ± 75.6 µs per loop (mean ± std. dev. of 7 runs, 1000 loops each)\n"
     ]
    }
   ],
   "source": [
    "img1 = np.zeros((768,768))\n",
    "img1[100:600,150:500] = 1.\n",
    "img1 = np.uint8(transform.rotate(img1, -45, order=0) * 255)\n",
    "%timeit fill_oriented_bbox(img1)"
   ]
  },
  {
   "cell_type": "code",
   "execution_count": null,
   "metadata": {},
   "outputs": [],
   "source": []
  }
 ],
 "metadata": {
  "kernelspec": {
   "display_name": "Airbus",
   "language": "python",
   "name": "airbus-env"
  },
  "language_info": {
   "codemirror_mode": {
    "name": "ipython",
    "version": 3
   },
   "file_extension": ".py",
   "mimetype": "text/x-python",
   "name": "python",
   "nbconvert_exporter": "python",
   "pygments_lexer": "ipython3",
   "version": "3.6.6"
  }
 },
 "nbformat": 4,
 "nbformat_minor": 2
}
