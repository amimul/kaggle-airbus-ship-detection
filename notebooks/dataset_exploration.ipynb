{
 "cells": [
  {
   "cell_type": "markdown",
   "metadata": {},
   "source": [
    "# Airbus Ship Detection dataset exploration"
   ]
  },
  {
   "cell_type": "code",
   "execution_count": 1,
   "metadata": {},
   "outputs": [],
   "source": [
    "import os\n",
    "import pandas as pd\n",
    "import matplotlib.pyplot as plt\n",
    "import seaborn as sns\n",
    "sns.set(style=\"darkgrid\")\n",
    "\n",
    "root_dir = \"/media/davidtvs/Storage/Datasets/airbus-ship-detection\"\n",
    "trainset_dir = os.path.join(root_dir, \"train_v2\")\n",
    "testset_dir = os.path.join(root_dir, \"test_v2\")\n",
    "train_rle = os.path.join(root_dir, \"train_ship_segmentations_v2.csv\")"
   ]
  },
  {
   "cell_type": "markdown",
   "metadata": {},
   "source": [
    "## Dataset size"
   ]
  },
  {
   "cell_type": "code",
   "execution_count": 2,
   "metadata": {},
   "outputs": [
    {
     "name": "stdout",
     "output_type": "stream",
     "text": [
      "Number of images in train folder: 192556\n",
      "Number of images in test folder: 15606\n"
     ]
    }
   ],
   "source": [
    "print(\"Number of images in train folder:\", len(os.listdir(trainset_dir)))\n",
    "print(\"Number of images in test folder:\", len(os.listdir(testset_dir)))"
   ]
  },
  {
   "cell_type": "markdown",
   "metadata": {},
   "source": [
    "## Ships distribution in training set"
   ]
  },
  {
   "cell_type": "code",
   "execution_count": 3,
   "metadata": {},
   "outputs": [
    {
     "data": {
      "text/html": [
       "<div>\n",
       "<style scoped>\n",
       "    .dataframe tbody tr th:only-of-type {\n",
       "        vertical-align: middle;\n",
       "    }\n",
       "\n",
       "    .dataframe tbody tr th {\n",
       "        vertical-align: top;\n",
       "    }\n",
       "\n",
       "    .dataframe thead th {\n",
       "        text-align: right;\n",
       "    }\n",
       "</style>\n",
       "<table border=\"1\" class=\"dataframe\">\n",
       "  <thead>\n",
       "    <tr style=\"text-align: right;\">\n",
       "      <th></th>\n",
       "      <th>ImageId</th>\n",
       "      <th>EncodedPixels</th>\n",
       "    </tr>\n",
       "  </thead>\n",
       "  <tbody>\n",
       "    <tr>\n",
       "      <th>0</th>\n",
       "      <td>00003e153.jpg</td>\n",
       "      <td>NaN</td>\n",
       "    </tr>\n",
       "    <tr>\n",
       "      <th>1</th>\n",
       "      <td>0001124c7.jpg</td>\n",
       "      <td>NaN</td>\n",
       "    </tr>\n",
       "    <tr>\n",
       "      <th>2</th>\n",
       "      <td>000155de5.jpg</td>\n",
       "      <td>264661 17 265429 33 266197 33 266965 33 267733...</td>\n",
       "    </tr>\n",
       "    <tr>\n",
       "      <th>3</th>\n",
       "      <td>000194a2d.jpg</td>\n",
       "      <td>360486 1 361252 4 362019 5 362785 8 363552 10 ...</td>\n",
       "    </tr>\n",
       "    <tr>\n",
       "      <th>4</th>\n",
       "      <td>000194a2d.jpg</td>\n",
       "      <td>51834 9 52602 9 53370 9 54138 9 54906 9 55674 ...</td>\n",
       "    </tr>\n",
       "  </tbody>\n",
       "</table>\n",
       "</div>"
      ],
      "text/plain": [
       "         ImageId                                      EncodedPixels\n",
       "0  00003e153.jpg                                                NaN\n",
       "1  0001124c7.jpg                                                NaN\n",
       "2  000155de5.jpg  264661 17 265429 33 266197 33 266965 33 267733...\n",
       "3  000194a2d.jpg  360486 1 361252 4 362019 5 362785 8 363552 10 ...\n",
       "4  000194a2d.jpg  51834 9 52602 9 53370 9 54138 9 54906 9 55674 ..."
      ]
     },
     "execution_count": 3,
     "metadata": {},
     "output_type": "execute_result"
    }
   ],
   "source": [
    "# Run length encoding CSV\n",
    "rle_df = pd.read_csv(train_rle)\n",
    "rle_df.head()"
   ]
  },
  {
   "cell_type": "code",
   "execution_count": 4,
   "metadata": {},
   "outputs": [
    {
     "name": "stdout",
     "output_type": "stream",
     "text": [
      "Number of images in run length encoding CSV: 192556\n"
     ]
    }
   ],
   "source": [
    "# Images with n ships have n rows\n",
    "unique_rle_df = rle_df.drop_duplicates('ImageId')\n",
    "num_images = len(unique_rle_df)\n",
    "print(\"Number of images in run length encoding CSV:\", num_images)"
   ]
  },
  {
   "cell_type": "code",
   "execution_count": 5,
   "metadata": {},
   "outputs": [
    {
     "name": "stdout",
     "output_type": "stream",
     "text": [
      "Number of images with ships: 42556 (22.10)\n",
      "Number of images without ships: 150000 (77.90)\n"
     ]
    }
   ],
   "source": [
    "# Images without ships have EncodedPixels set to NaN\n",
    "images_with_ships = unique_rle_df.dropna(subset=['EncodedPixels'])\n",
    "num_images_with_ships = len(images_with_ships)\n",
    "num_images_wo_ships = len(unique_rle_df) - len(images_with_ships)\n",
    "print(\"Number of images with ships: {0} ({1:.2f})\".format(num_images_with_ships, (num_images_with_ships / num_images) * 100))\n",
    "print(\"Number of images without ships: {0} ({1:.2f})\".format(num_images_wo_ships, (num_images_wo_ships / num_images) * 100))"
   ]
  },
  {
   "cell_type": "code",
   "execution_count": 6,
   "metadata": {},
   "outputs": [
    {
     "data": {
      "image/png": "[encoded data removed]",
      "text/plain": [
       "<Figure size 864x576 with 1 Axes>"
      ]
     },
     "metadata": {
      "needs_background": "light"
     },
     "output_type": "display_data"
    }
   ],
   "source": [
    "ship_count_df = rle_df.groupby('ImageId').count().reset_index().rename(columns={\"EncodedPixels\": \"ShipCount\"})\n",
    "ship_dist = ship_count_df.groupby('ShipCount')['ShipCount'].agg('count')\n",
    "ship_dist = ship_dist / sum(ship_dist)\n",
    "fig = plt.figure(figsize=(12, 8))\n",
    "g = sns.barplot(x=ship_dist.index, y=ship_dist.values)\n",
    "_ = g.set_ylabel(\"Nomalized ship count\")\n",
    "_ = g.set_xlabel(\"Number of ships\")"
   ]
  }
 ],
 "metadata": {
  "kernelspec": {
   "display_name": "Airbus",
   "language": "python",
   "name": "airbus-env"
  },
  "language_info": {
   "codemirror_mode": {
    "name": "ipython",
    "version": 3
   },
   "file_extension": ".py",
   "mimetype": "text/x-python",
   "name": "python",
   "nbconvert_exporter": "python",
   "pygments_lexer": "ipython3",
   "version": "3.6.6"
  }
 },
 "nbformat": 4,
 "nbformat_minor": 2
}
