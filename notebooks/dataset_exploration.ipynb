{
 "cells": [
  {
   "cell_type": "markdown",
   "metadata": {},
   "source": [
    "# Airbus Ship Detection dataset exploration"
   ]
  },
  {
   "cell_type": "code",
   "execution_count": 1,
   "metadata": {},
   "outputs": [],
   "source": [
    "import os\n",
    "import pandas as pd\n",
    "import matplotlib.pyplot as plt\n",
    "import seaborn as sns\n",
    "from PIL import Image\n",
    "\n",
    "# seaborn plot style\n",
    "sns.set(style=\"darkgrid\")\n",
    "\n",
    "# System paths\n",
    "root_dir = \"/media/davidtvs/Storage/Datasets/airbus-ship-detection\"\n",
    "trainset_dir = os.path.join(root_dir, \"train_v2\")\n",
    "testset_dir = os.path.join(root_dir, \"test_v2\")\n",
    "train_rle = os.path.join(root_dir, \"train_ship_segmentations_v2.csv\")"
   ]
  },
  {
   "cell_type": "markdown",
   "metadata": {},
   "source": [
    "## Dataset size"
   ]
  },
  {
   "cell_type": "code",
   "execution_count": 2,
   "metadata": {},
   "outputs": [
    {
     "name": "stdout",
     "output_type": "stream",
     "text": [
      "Number of images in train folder: 192556\n",
      "Number of images in test folder: 15606\n"
     ]
    }
   ],
   "source": [
    "print(\"Number of images in train folder:\", len(os.listdir(trainset_dir)))\n",
    "print(\"Number of images in test folder:\", len(os.listdir(testset_dir)))"
   ]
  },
  {
   "cell_type": "markdown",
   "metadata": {},
   "source": [
    "## Image sizes"
   ]
  },
  {
   "cell_type": "markdown",
   "metadata": {},
   "source": [
    "The following code cell takes longer than 30 min to run. The goal was to verify that the images all have the same size, and they do.\n",
    "\n",
    "Image resolution: (768, 768)"
   ]
  },
  {
   "cell_type": "code",
   "execution_count": 3,
   "metadata": {},
   "outputs": [],
   "source": [
    "#def get_image_sizes(image_dir):\n",
    "#    image_sizes = []\n",
    "#    for file in os.listdir(image_dir):\n",
    "#        filepath = os.path.join(image_dir, file)\n",
    "#        with Image.open(filepath, mode='r') as img:\n",
    "#            image_sizes.append(img.size)\n",
    "#            \n",
    "#    return image_sizes\n",
    "#\n",
    "#train_sizes = get_image_sizes(trainset_dir)\n",
    "#test_sizes = get_image_sizes(testset_dir)\n",
    "#print(\"Image resolutions in the training set:\", pd.unique(train_sizes))\n",
    "#print(\"Image resolutions in the test set:\", pd.unique(test_sizes))"
   ]
  },
  {
   "cell_type": "markdown",
   "metadata": {},
   "source": [
    "## Ships distribution in images"
   ]
  },
  {
   "cell_type": "markdown",
   "metadata": {},
   "source": [
    "The ground-truth segmentations are encoded in run-length format:\n",
    " - Each row defines the segmentation for a single ship\n",
    " - Images with n ships have n rows\n",
    " - Images without ships have one row with NaN as the value\n",
    " - The encoding format is a list of (start length) pairs in pixels"
   ]
  },
  {
   "cell_type": "code",
   "execution_count": 4,
   "metadata": {},
   "outputs": [
    {
     "data": {
      "text/html": [
       "<div>\n",
       "<style scoped>\n",
       "    .dataframe tbody tr th:only-of-type {\n",
       "        vertical-align: middle;\n",
       "    }\n",
       "\n",
       "    .dataframe tbody tr th {\n",
       "        vertical-align: top;\n",
       "    }\n",
       "\n",
       "    .dataframe thead th {\n",
       "        text-align: right;\n",
       "    }\n",
       "</style>\n",
       "<table border=\"1\" class=\"dataframe\">\n",
       "  <thead>\n",
       "    <tr style=\"text-align: right;\">\n",
       "      <th></th>\n",
       "      <th>ImageId</th>\n",
       "      <th>EncodedPixels</th>\n",
       "    </tr>\n",
       "  </thead>\n",
       "  <tbody>\n",
       "    <tr>\n",
       "      <th>0</th>\n",
       "      <td>00003e153.jpg</td>\n",
       "      <td>NaN</td>\n",
       "    </tr>\n",
       "    <tr>\n",
       "      <th>1</th>\n",
       "      <td>0001124c7.jpg</td>\n",
       "      <td>NaN</td>\n",
       "    </tr>\n",
       "    <tr>\n",
       "      <th>2</th>\n",
       "      <td>000155de5.jpg</td>\n",
       "      <td>264661 17 265429 33 266197 33 266965 33 267733...</td>\n",
       "    </tr>\n",
       "    <tr>\n",
       "      <th>3</th>\n",
       "      <td>000194a2d.jpg</td>\n",
       "      <td>360486 1 361252 4 362019 5 362785 8 363552 10 ...</td>\n",
       "    </tr>\n",
       "    <tr>\n",
       "      <th>4</th>\n",
       "      <td>000194a2d.jpg</td>\n",
       "      <td>51834 9 52602 9 53370 9 54138 9 54906 9 55674 ...</td>\n",
       "    </tr>\n",
       "  </tbody>\n",
       "</table>\n",
       "</div>"
      ],
      "text/plain": [
       "         ImageId                                      EncodedPixels\n",
       "0  00003e153.jpg                                                NaN\n",
       "1  0001124c7.jpg                                                NaN\n",
       "2  000155de5.jpg  264661 17 265429 33 266197 33 266965 33 267733...\n",
       "3  000194a2d.jpg  360486 1 361252 4 362019 5 362785 8 363552 10 ...\n",
       "4  000194a2d.jpg  51834 9 52602 9 53370 9 54138 9 54906 9 55674 ..."
      ]
     },
     "execution_count": 4,
     "metadata": {},
     "output_type": "execute_result"
    }
   ],
   "source": [
    "# Run length encoding CSV\n",
    "rle_df = pd.read_csv(train_rle)\n",
    "rle_df.head()"
   ]
  },
  {
   "cell_type": "code",
   "execution_count": 5,
   "metadata": {},
   "outputs": [
    {
     "name": "stdout",
     "output_type": "stream",
     "text": [
      "Number of images in run length encoding CSV: 192556\n"
     ]
    }
   ],
   "source": [
    "# Images with n ships have n rows\n",
    "unique_rle_df = rle_df.drop_duplicates('ImageId')\n",
    "num_images = len(unique_rle_df)\n",
    "print(\"Number of images in run length encoding CSV:\", num_images)"
   ]
  },
  {
   "cell_type": "code",
   "execution_count": 6,
   "metadata": {},
   "outputs": [
    {
     "name": "stdout",
     "output_type": "stream",
     "text": [
      "Number of images with ships: 42556 (22.1%)\n",
      "Number of images without ships: 150000 (77.9%)\n"
     ]
    }
   ],
   "source": [
    "# Images without ships have EncodedPixels set to NaN\n",
    "images_with_ships = unique_rle_df.dropna(subset=['EncodedPixels'])\n",
    "num_images_with_ships = len(images_with_ships)\n",
    "num_images_wo_ships = len(unique_rle_df) - len(images_with_ships)\n",
    "print(\"Number of images with ships: {0} ({1:.1f}%)\".format(num_images_with_ships, (num_images_with_ships / num_images) * 100))\n",
    "print(\"Number of images without ships: {0} ({1:.1f}%)\".format(num_images_wo_ships, (num_images_wo_ships / num_images) * 100))"
   ]
  },
  {
   "cell_type": "code",
   "execution_count": 7,
   "metadata": {
    "scrolled": false
   },
   "outputs": [
    {
     "data": {
      "image/png": "[encoded data removed]",
      "text/plain": [
       "<Figure size 720x576 with 1 Axes>"
      ]
     },
     "metadata": {
      "needs_background": "light"
     },
     "output_type": "display_data"
    }
   ],
   "source": [
    "ship_count_df = rle_df.groupby('ImageId').count().reset_index().rename(columns={\"EncodedPixels\": \"ShipCount\"})\n",
    "ship_dist = ship_count_df.groupby('ShipCount')['ShipCount'].agg('count')\n",
    "ship_dist = ship_dist / sum(ship_dist)\n",
    "fig = plt.figure(figsize=(10, 8))\n",
    "g = sns.barplot(x=ship_dist.index, y=ship_dist.values)\n",
    "_ = g.set_ylabel(\"Nomalized ship count\")\n",
    "_ = g.set_xlabel(\"Number of ships\")"
   ]
  },
  {
   "cell_type": "markdown",
   "metadata": {},
   "source": [
    "The dataset is very imbalanced. Only 22% of the images have ships and most of those have only one ship."
   ]
  },
  {
   "cell_type": "markdown",
   "metadata": {},
   "source": [
    "## Ships distribution in pixels"
   ]
  },
  {
   "cell_type": "markdown",
   "metadata": {},
   "source": [
    "The situation only gets worse if we go down to the pixel-level"
   ]
  },
  {
   "cell_type": "code",
   "execution_count": 8,
   "metadata": {},
   "outputs": [
    {
     "name": "stdout",
     "output_type": "stream",
     "text": [
      "Percentage of ship-pixels: 0.113%\n"
     ]
    }
   ],
   "source": [
    "def rle_pixel_count(rle):\n",
    "    count = 0\n",
    "    if not pd.isna(rle):\n",
    "        rle_split = rle.split()\n",
    "        for value in rle_split[1::2]:\n",
    "            count += int(value)\n",
    "    \n",
    "    return count\n",
    "\n",
    "rle_df['PixelCount'] = rle_df['EncodedPixels'].apply(rle_pixel_count)\n",
    "total_ship_pixels = sum(rle_df['PixelCount'])\n",
    "total_pixels = 768 * 768 * num_images\n",
    "print(\"Percentage of ship-pixels: {0:.3f}%\".format((total_ship_pixels / total_pixels) * 100))"
   ]
  },
  {
   "cell_type": "markdown",
   "metadata": {},
   "source": [
    "Only 0.1% of the pixels belong to the ship class, the remaining are background. If we discard the images that don't have ships the situation improves slightly"
   ]
  },
  {
   "cell_type": "code",
   "execution_count": 9,
   "metadata": {},
   "outputs": [
    {
     "name": "stdout",
     "output_type": "stream",
     "text": [
      "Percentage of ship-pixels: 0.510%\n"
     ]
    }
   ],
   "source": [
    "total_pixels = 768 * 768 * num_images_with_ships\n",
    "print(\"Percentage of ship-pixels: {0:.3f}%\".format((total_ship_pixels / total_pixels) * 100))"
   ]
  }
 ],
 "metadata": {
  "kernelspec": {
   "display_name": "Airbus",
   "language": "python",
   "name": "airbus-env"
  },
  "language_info": {
   "codemirror_mode": {
    "name": "ipython",
    "version": 3
   },
   "file_extension": ".py",
   "mimetype": "text/x-python",
   "name": "python",
   "nbconvert_exporter": "python",
   "pygments_lexer": "ipython3",
   "version": "3.6.6"
  }
 },
 "nbformat": 4,
 "nbformat_minor": 2
}
