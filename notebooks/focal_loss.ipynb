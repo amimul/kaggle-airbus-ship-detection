{
 "cells": [
  {
   "cell_type": "code",
   "execution_count": 1,
   "metadata": {},
   "outputs": [],
   "source": [
    "import torch\n",
    "import torch.nn as nn\n",
    "import torch.nn.functional as F\n",
    "import numpy as np"
   ]
  },
  {
   "cell_type": "code",
   "execution_count": 2,
   "metadata": {},
   "outputs": [],
   "source": [
    "class FocalLoss2d(nn.Module):\n",
    "    def __init__(self, gamma=0, weight=1, reduction=\"mean\"):\n",
    "        super().__init__()\n",
    "        self.gamma = gamma\n",
    "        self.weight = weight\n",
    "        if reduction.lower() == \"none\":\n",
    "            self.reduction_op = None\n",
    "        elif reduction.lower() == \"mean\":\n",
    "            self.reduction_op = torch.mean\n",
    "        elif reduction.lower() == \"sum\":\n",
    "            self.reduction_op = torch.sum\n",
    "        else:\n",
    "            raise ValueError(\"expected one of ('none', 'mean', 'sum'), got {}\".format(reduction))\n",
    "        \n",
    "    def forward(self, input, target):\n",
    "        if input.dim() == 4:\n",
    "            input = input.permute(0, 2, 3, 1)\n",
    "            input = input.contiguous().view(-1, input.size(-1))\n",
    "        elif input.dim() != 2:\n",
    "            raise ValueError(\"expected input of size 4 or 2, got {}\".format(input.size()))\n",
    "            \n",
    "        if target.dim() == 3:\n",
    "            target = target.contiguous().view(-1)\n",
    "        elif target.dim() != 1:\n",
    "            raise ValueError(\"expected target of size 3 or 1, got {}\".format(target.size()))\n",
    "            \n",
    "        m = input.size(0)\n",
    "        probabilities = F.softmax(input[range(m), target], dim=0)\n",
    "        focal = self.weight * (1 - probabilities).pow(self.gamma)\n",
    "        ce = F.cross_entropy(input, target, reduction=\"none\")\n",
    "        loss = focal * ce\n",
    "        \n",
    "        if self.reduction_op is not None:\n",
    "            return self.reduction_op(loss)\n",
    "        else:\n",
    "            return loss\n",
    "        \n",
    "    def forward_onehot(self, input, target):\n",
    "        if input.dim() != 2 and input.dim() != 4:\n",
    "            raise ValueError(\"expected input of size 4 or 2, got {}\".format(input.dim()))\n",
    "            \n",
    "        if target.dim() != 1 and target.dim() != 3:\n",
    "            raise ValueError(\"expected target of size 3 or 1, got {}\".format(target.dim()))\n",
    "            \n",
    "        target_onehot = onehot(target, input.size(1))\n",
    "            \n",
    "        m = input.size(0)\n",
    "        probabilities = torch.sum(target_onehot * F.softmax(input, dim=0), dim=1)\n",
    "        focal = self.weight * (1 - probabilities).pow(self.gamma)\n",
    "        ce = F.cross_entropy(input, target, reduction=\"none\")\n",
    "        loss = focal * ce\n",
    "        \n",
    "        if self.reduction_op is not None:\n",
    "            return self.reduction_op(loss)\n",
    "        else:\n",
    "            return loss"
   ]
  },
  {
   "cell_type": "code",
   "execution_count": 3,
   "metadata": {},
   "outputs": [],
   "source": [
    "def onehot(tensor, num_classes):    \n",
    "    tensor = tensor.unsqueeze(1)\n",
    "    onehot = torch.zeros(tensor.size(0), num_classes, *tensor.size()[2:])\n",
    "    onehot.scatter_(1, tensor, 1)\n",
    "    \n",
    "    return onehot"
   ]
  },
  {
   "cell_type": "code",
   "execution_count": 4,
   "metadata": {},
   "outputs": [
    {
     "name": "stdout",
     "output_type": "stream",
     "text": [
      "Target:\n",
      " tensor([1])\n",
      "Model out:\n",
      " tensor([[-100.,  100., -100.,  -50.]])\n",
      "Loss:\n",
      " tensor(0.)\n",
      "Onehot loss:\n",
      " tensor(0.)\n"
     ]
    }
   ],
   "source": [
    "loss = FocalLoss2d()\n",
    "\n",
    "target = torch.Tensor([1]).long()\n",
    "out = torch.Tensor([[-100, 100, -100, -50]]).float()\n",
    "print(\"Target:\\n\", target)\n",
    "print(\"Model out:\\n\", out)\n",
    "print(\"Loss:\\n\", loss.forward(out, target))\n",
    "print(\"Onehot loss:\\n\", loss.forward_onehot(out, target))"
   ]
  },
  {
   "cell_type": "code",
   "execution_count": 5,
   "metadata": {},
   "outputs": [
    {
     "name": "stdout",
     "output_type": "stream",
     "text": [
      "Target:\n",
      " tensor([1, 0, 0])\n",
      "Model out:\n",
      " tensor([[-100.,  100., -100.,  -50.],\n",
      "        [-100., -100., -100.,   50.],\n",
      "        [ 100., -100., -100.,  -50.]])\n",
      "Loss:\n",
      " tensor(50.)\n",
      "Onehot loss:\n",
      " tensor(50.)\n"
     ]
    }
   ],
   "source": [
    "target = torch.Tensor([1, 0, 0]).long()\n",
    "out = torch.Tensor([[-100, 100, -100, -50], [-100, -100, -100, 50], [100, -100, -100, -50]]).float()\n",
    "print(\"Target:\\n\", target)\n",
    "print(\"Model out:\\n\", out)\n",
    "print(\"Loss:\\n\", loss.forward(out, target))\n",
    "print(\"Onehot loss:\\n\", loss.forward_onehot(out, target))"
   ]
  },
  {
   "cell_type": "code",
   "execution_count": 6,
   "metadata": {},
   "outputs": [
    {
     "name": "stdout",
     "output_type": "stream",
     "text": [
      "Target:\n",
      " torch.Size([2, 5, 5])\n",
      "Model out:\n",
      " torch.Size([2, 3, 5, 5])\n",
      "Loss:\n",
      " tensor(82.)\n",
      "Onehot loss:\n",
      " tensor(82.)\n"
     ]
    }
   ],
   "source": [
    "target = torch.randint(3, (2, 5, 5)).long()\n",
    "out = torch.randint(3, (2, 5, 5)).long()\n",
    "out = onehot(out, 3).float() * 100\n",
    "print(\"Target:\\n\", target.size())\n",
    "print(\"Model out:\\n\", out.size())\n",
    "print(\"Loss:\\n\", loss.forward(out, target))\n",
    "print(\"Onehot loss:\\n\", loss.forward_onehot(out, target))"
   ]
  },
  {
   "cell_type": "code",
   "execution_count": 7,
   "metadata": {},
   "outputs": [
    {
     "name": "stdout",
     "output_type": "stream",
     "text": [
      "Target:\n",
      " torch.Size([2, 5, 5])\n",
      "Model out:\n",
      " torch.Size([2, 3, 5, 5])\n",
      "Loss:\n",
      " tensor(0.)\n",
      "Onehot loss:\n",
      " tensor(0.)\n"
     ]
    }
   ],
   "source": [
    "target = torch.randint(3, (2, 5, 5)).long()\n",
    "out = onehot(target, 3).float() * 100\n",
    "print(\"Target:\\n\", target.size())\n",
    "print(\"Model out:\\n\", out.size())\n",
    "print(\"Loss:\\n\", loss.forward(out, target))\n",
    "print(\"Onehot loss:\\n\", loss.forward_onehot(out, target))"
   ]
  },
  {
   "cell_type": "code",
   "execution_count": 10,
   "metadata": {},
   "outputs": [
    {
     "name": "stdout",
     "output_type": "stream",
     "text": [
      "2.47 ms ± 159 µs per loop (mean ± std. dev. of 7 runs, 1000 loops each)\n"
     ]
    }
   ],
   "source": [
    "target = torch.randint(3, (2, 5, 5)).long()\n",
    "out = onehot(target, 3).float() * 100\n",
    "%timeit -n 1000 loss.forward(out, target)"
   ]
  },
  {
   "cell_type": "code",
   "execution_count": 11,
   "metadata": {},
   "outputs": [
    {
     "name": "stdout",
     "output_type": "stream",
     "text": [
      "5.33 ms ± 1.74 ms per loop (mean ± std. dev. of 7 runs, 1000 loops each)\n"
     ]
    }
   ],
   "source": [
    "%timeit -n 1000 loss.forward_onehot(out, target)"
   ]
  },
  {
   "cell_type": "markdown",
   "metadata": {},
   "source": [
    "The one-hot solution is almost 2 times slower than the permute-view solution. Will use permute-view solution."
   ]
  }
 ],
 "metadata": {
  "kernelspec": {
   "display_name": "Airbus",
   "language": "python",
   "name": "airbus-env"
  },
  "language_info": {
   "codemirror_mode": {
    "name": "ipython",
    "version": 3
   },
   "file_extension": ".py",
   "mimetype": "text/x-python",
   "name": "python",
   "nbconvert_exporter": "python",
   "pygments_lexer": "ipython3",
   "version": "3.6.6"
  }
 },
 "nbformat": 4,
 "nbformat_minor": 2
}
