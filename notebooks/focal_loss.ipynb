{
 "cells": [
  {
   "cell_type": "code",
   "execution_count": 1,
   "metadata": {},
   "outputs": [],
   "source": [
    "import torch\n",
    "import torch.nn as nn\n",
    "import torch.nn.functional as F\n",
    "import numpy as np"
   ]
  },
  {
   "cell_type": "code",
   "execution_count": 2,
   "metadata": {},
   "outputs": [],
   "source": [
    "class FocalLoss2d(nn.Module):\n",
    "    def __init__(self, gamma=0, weight=1, reduction=\"mean\"):\n",
    "        super().__init__()\n",
    "        self.gamma = gamma\n",
    "        self.weight = weight\n",
    "        if reduction.lower() == \"none\":\n",
    "            self.reduction_op = None\n",
    "        elif reduction.lower() == \"mean\":\n",
    "            self.reduction_op = torch.mean\n",
    "        elif reduction.lower() == \"sum\":\n",
    "            self.reduction_op = torch.sum\n",
    "        else:\n",
    "            raise ValueError(\"expected one of ('none', 'mean', 'sum'), got {}\".format(reduction))\n",
    "        \n",
    "    def forward(self, input, target):\n",
    "        if input.dim() == 4:\n",
    "            input = input.contiguous().view(-1, input.size(1))\n",
    "        elif input.dim() != 2:\n",
    "            raise ValueError(\"expected input of size 4 or 2, got {}\".format(input.size()))\n",
    "            \n",
    "        if target.dim() == 3:\n",
    "            target = target.contiguous().view(-1)\n",
    "        elif target.dim() != 1:\n",
    "            raise ValueError(\"expected target of size 3 or 1, got {}\".format(target.size()))\n",
    "            \n",
    "        m = input.size(0)\n",
    "        probabilities = F.softmax(input[range(m), target], dim=0)\n",
    "        focal = self.weight * (1 - probabilities).pow(self.gamma)\n",
    "        ce = F.cross_entropy(input, target, reduction=\"none\")\n",
    "        loss = focal * ce\n",
    "        \n",
    "        if self.reduction_op is not None:\n",
    "            return self.reduction_op(loss)\n",
    "        else:\n",
    "            return loss    "
   ]
  },
  {
   "cell_type": "code",
   "execution_count": 50,
   "metadata": {},
   "outputs": [],
   "source": [
    "def onehot(tensor, num_classes):\n",
    "    tensor = tensor.unsqueeze(1)\n",
    "    print(tensor.size())\n",
    "    onehot = torch.zeros(tensor.size(0), num_classes, tensor.size(2), tensor.size(3))\n",
    "    onehot.scatter_(1, tensor, 1)\n",
    "    \n",
    "    return onehot"
   ]
  },
  {
   "cell_type": "code",
   "execution_count": 4,
   "metadata": {},
   "outputs": [
    {
     "name": "stdout",
     "output_type": "stream",
     "text": [
      "Target:\n",
      " tensor([1])\n",
      "Model out:\n",
      " tensor([[-100.,  100., -100.,  -50.]])\n",
      "Loss:\n",
      " tensor(0.)\n"
     ]
    }
   ],
   "source": [
    "loss = FocalLoss2d()\n",
    "\n",
    "target = torch.Tensor([1]).long()\n",
    "out = torch.Tensor([[-100, 100, -100, -50]]).float()\n",
    "print(\"Target:\\n\", target)\n",
    "print(\"Model out:\\n\", out)\n",
    "print(\"Loss:\\n\", loss.forward(out, target))"
   ]
  },
  {
   "cell_type": "code",
   "execution_count": 5,
   "metadata": {},
   "outputs": [
    {
     "name": "stdout",
     "output_type": "stream",
     "text": [
      "Target:\n",
      " tensor([1, 0, 0])\n",
      "Model out:\n",
      " tensor([[-100.,  100., -100.,  -50.],\n",
      "        [-100., -100., -100.,   50.],\n",
      "        [ 100., -100., -100.,  -50.]])\n",
      "Loss:\n",
      " tensor(50.)\n"
     ]
    }
   ],
   "source": [
    "target = torch.Tensor([1, 0, 0]).long()\n",
    "out = torch.Tensor([[-100, 100, -100, -50], [-100, -100, -100, 50], [100, -100, -100, -50]]).float()\n",
    "print(\"Target:\\n\", target)\n",
    "print(\"Model out:\\n\", out)\n",
    "print(\"Loss:\\n\", loss.forward(out, target))"
   ]
  },
  {
   "cell_type": "code",
   "execution_count": 51,
   "metadata": {},
   "outputs": [
    {
     "name": "stdout",
     "output_type": "stream",
     "text": [
      "torch.Size([2, 1, 5, 5])\n",
      "Target:\n",
      " tensor([[2, 1, 1, 2, 1],\n",
      "        [2, 2, 2, 1, 2],\n",
      "        [2, 2, 1, 2, 1],\n",
      "        [1, 0, 0, 0, 2],\n",
      "        [2, 2, 0, 0, 1]])\n",
      "Model out:\n",
      " tensor([[[0., 0., 0., 0., 0.],\n",
      "         [1., 1., 1., 0., 1.],\n",
      "         [0., 1., 0., 1., 0.],\n",
      "         [1., 1., 0., 1., 0.],\n",
      "         [0., 0., 0., 0., 0.]],\n",
      "\n",
      "        [[0., 0., 1., 1., 0.],\n",
      "         [0., 0., 0., 1., 0.],\n",
      "         [0., 0., 1., 0., 1.],\n",
      "         [0., 0., 1., 0., 0.],\n",
      "         [0., 0., 1., 0., 1.]],\n",
      "\n",
      "        [[1., 1., 0., 0., 1.],\n",
      "         [0., 0., 0., 0., 0.],\n",
      "         [1., 0., 0., 0., 0.],\n",
      "         [0., 0., 0., 0., 1.],\n",
      "         [1., 1., 0., 1., 0.]]])\n",
      "Loss:\n",
      " tensor(1.1430)\n"
     ]
    }
   ],
   "source": [
    "target = torch.randint(3, (2, 5, 5)).long()\n",
    "out = torch.randint(3, (2, 5, 5)).long()\n",
    "out = onehot(out, 3).float()\n",
    "print(\"Target:\\n\", target[0])\n",
    "print(\"Model out:\\n\", out[0, :, :, :])\n",
    "print(\"Loss:\\n\", loss.forward(out, target))"
   ]
  },
  {
   "cell_type": "code",
   "execution_count": 59,
   "metadata": {},
   "outputs": [
    {
     "name": "stdout",
     "output_type": "stream",
     "text": [
      "torch.Size([2, 1, 5, 5])\n"
     ]
    },
    {
     "ename": "RuntimeError",
     "evalue": "bool value of Tensor with more than one value is ambiguous",
     "output_type": "error",
     "traceback": [
      "\u001b[0;31m---------------------------------------------------------------------------\u001b[0m",
      "\u001b[0;31mRuntimeError\u001b[0m                              Traceback (most recent call last)",
      "\u001b[0;32m<ipython-input-59-bda94fd7c779>\u001b[0m in \u001b[0;36m<module>\u001b[0;34m\u001b[0m\n\u001b[1;32m      1\u001b[0m \u001b[0mtarget\u001b[0m \u001b[0;34m=\u001b[0m \u001b[0mtorch\u001b[0m\u001b[0;34m.\u001b[0m\u001b[0mrandint\u001b[0m\u001b[0;34m(\u001b[0m\u001b[0;36m3\u001b[0m\u001b[0;34m,\u001b[0m \u001b[0;34m(\u001b[0m\u001b[0;36m2\u001b[0m\u001b[0;34m,\u001b[0m \u001b[0;36m5\u001b[0m\u001b[0;34m,\u001b[0m \u001b[0;36m5\u001b[0m\u001b[0;34m)\u001b[0m\u001b[0;34m)\u001b[0m\u001b[0;34m.\u001b[0m\u001b[0mlong\u001b[0m\u001b[0;34m(\u001b[0m\u001b[0;34m)\u001b[0m\u001b[0;34m\u001b[0m\u001b[0m\n\u001b[1;32m      2\u001b[0m \u001b[0mout\u001b[0m \u001b[0;34m=\u001b[0m \u001b[0monehot\u001b[0m\u001b[0;34m(\u001b[0m\u001b[0mtarget\u001b[0m\u001b[0;34m,\u001b[0m \u001b[0;36m3\u001b[0m\u001b[0;34m)\u001b[0m\u001b[0;34m.\u001b[0m\u001b[0mfloat\u001b[0m\u001b[0;34m(\u001b[0m\u001b[0;34m)\u001b[0m\u001b[0;34m\u001b[0m\u001b[0m\n\u001b[0;32m----> 3\u001b[0;31m \u001b[0;32massert\u001b[0m \u001b[0mtorch\u001b[0m\u001b[0;34m.\u001b[0m\u001b[0meq\u001b[0m\u001b[0;34m(\u001b[0m\u001b[0mtorch\u001b[0m\u001b[0;34m.\u001b[0m\u001b[0mmax\u001b[0m\u001b[0;34m(\u001b[0m\u001b[0mout\u001b[0m\u001b[0;34m,\u001b[0m \u001b[0;36m1\u001b[0m\u001b[0;34m)\u001b[0m\u001b[0;34m[\u001b[0m\u001b[0;36m1\u001b[0m\u001b[0;34m]\u001b[0m\u001b[0;34m,\u001b[0m \u001b[0mtarget\u001b[0m\u001b[0;34m)\u001b[0m\u001b[0;34m\u001b[0m\u001b[0m\n\u001b[0m\u001b[1;32m      4\u001b[0m \u001b[0mprint\u001b[0m\u001b[0;34m(\u001b[0m\u001b[0;34m\"Target:\\n\"\u001b[0m\u001b[0;34m,\u001b[0m \u001b[0mtarget\u001b[0m\u001b[0;34m[\u001b[0m\u001b[0;36m0\u001b[0m\u001b[0;34m]\u001b[0m\u001b[0;34m)\u001b[0m\u001b[0;34m\u001b[0m\u001b[0m\n\u001b[1;32m      5\u001b[0m \u001b[0mprint\u001b[0m\u001b[0;34m(\u001b[0m\u001b[0;34m\"Model out:\\n\"\u001b[0m\u001b[0;34m,\u001b[0m \u001b[0mout\u001b[0m\u001b[0;34m[\u001b[0m\u001b[0;36m0\u001b[0m\u001b[0;34m,\u001b[0m \u001b[0;34m:\u001b[0m\u001b[0;34m,\u001b[0m \u001b[0;34m:\u001b[0m\u001b[0;34m,\u001b[0m \u001b[0;34m:\u001b[0m\u001b[0;34m]\u001b[0m\u001b[0;34m)\u001b[0m\u001b[0;34m\u001b[0m\u001b[0m\n",
      "\u001b[0;31mRuntimeError\u001b[0m: bool value of Tensor with more than one value is ambiguous"
     ]
    }
   ],
   "source": [
    "target = torch.randint(3, (2, 5, 5)).long()\n",
    "out = onehot(target, 3).float()\n",
    "assert torch.eq(torch.max(out, 1)[1], target)\n",
    "print(\"Target:\\n\", target[0])\n",
    "print(\"Model out:\\n\", out[0, :, :, :])\n",
    "print(\"Loss:\\n\", loss.forward(out, target))"
   ]
  },
  {
   "cell_type": "code",
   "execution_count": 62,
   "metadata": {},
   "outputs": [
    {
     "data": {
      "text/plain": [
       "tensor(1, dtype=torch.uint8)"
      ]
     },
     "execution_count": 62,
     "metadata": {},
     "output_type": "execute_result"
    }
   ],
   "source": [
    "torch.eq(torch.max(out, 1)[1], target).all()"
   ]
  },
  {
   "cell_type": "code",
   "execution_count": 55,
   "metadata": {},
   "outputs": [
    {
     "data": {
      "text/plain": [
       "tensor([[[0, 1, 2, 2, 2],\n",
       "         [1, 2, 0, 1, 1],\n",
       "         [1, 1, 1, 1, 2],\n",
       "         [1, 2, 1, 1, 1],\n",
       "         [2, 2, 1, 1, 1]],\n",
       "\n",
       "        [[2, 1, 0, 2, 0],\n",
       "         [0, 2, 0, 1, 2],\n",
       "         [2, 2, 1, 2, 2],\n",
       "         [0, 0, 1, 1, 2],\n",
       "         [1, 0, 2, 2, 1]]])"
      ]
     },
     "execution_count": 55,
     "metadata": {},
     "output_type": "execute_result"
    }
   ],
   "source": [
    "b"
   ]
  },
  {
   "cell_type": "code",
   "execution_count": null,
   "metadata": {},
   "outputs": [],
   "source": []
  }
 ],
 "metadata": {
  "kernelspec": {
   "display_name": "Airbus",
   "language": "python",
   "name": "airbus-env"
  },
  "language_info": {
   "codemirror_mode": {
    "name": "ipython",
    "version": 3
   },
   "file_extension": ".py",
   "mimetype": "text/x-python",
   "name": "python",
   "nbconvert_exporter": "python",
   "pygments_lexer": "ipython3",
   "version": "3.6.6"
  }
 },
 "nbformat": 4,
 "nbformat_minor": 2
}
