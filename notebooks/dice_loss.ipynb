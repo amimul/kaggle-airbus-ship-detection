{
 "cells": [
  {
   "cell_type": "code",
   "execution_count": 1,
   "metadata": {},
   "outputs": [],
   "source": [
    "import torch\n",
    "import torch.nn as nn\n",
    "import numpy as np"
   ]
  },
  {
   "cell_type": "code",
   "execution_count": 2,
   "metadata": {},
   "outputs": [],
   "source": [
    "class DiceLoss(nn.Module):\n",
    "    \"\"\"https://github.com/pytorch/pytorch/issues/1249\"\"\"\n",
    "    def __init__(self, reduction=\"mean\", eps=1e-6):\n",
    "        super().__init__()\n",
    "        self.eps = eps\n",
    "        if reduction.lower() == \"none\":\n",
    "            self.reduction_op = None\n",
    "        elif reduction.lower() == \"mean\":\n",
    "            self.reduction_op = torch.mean\n",
    "        elif reduction.lower() == \"sum\":\n",
    "            self.reduction_op = torch.sum\n",
    "        else:\n",
    "            raise ValueError(\"expected one of ('none', 'mean', 'sum'), got {}\".format(reduction))\n",
    "        \n",
    "    def forward(self, input, target):\n",
    "        if input.dim() != 2 and input.dim() != 4:\n",
    "            raise ValueError(\"expected input of size 4 or 2, got {}\".format(input.dim()))\n",
    "            \n",
    "        if target.dim() != 1 and target.dim() != 3:\n",
    "            raise ValueError(\"expected target of size 3 or 1, got {}\".format(target.dim()))\n",
    "        \n",
    "        if input.dim() == 4 and target.dim() == 3:\n",
    "            reduce_dims = (3, 2)\n",
    "        elif input.dim() == 2 and target.dim() == 1:\n",
    "            reduce_dims = (1)\n",
    "        else:\n",
    "            raise ValueError(\"expected target dimension {} for input dimension {}, got {}\".format(input.dim() - 1, input.dim(), target.dim()))\n",
    "            \n",
    "        target_onehot = onehot(target, input.size(1))\n",
    "        probabilities = nn.functional.softmax(input, 1)\n",
    "        num = torch.sum(target_onehot * probabilities, dim=reduce_dims)\n",
    "        den_t = torch.sum(target_onehot * target_onehot, dim=reduce_dims)\n",
    "        den_p = torch.sum(probabilities * probabilities, dim=reduce_dims)\n",
    "        loss = -2 * (num / (den_t + den_p + self.eps))        \n",
    "        \n",
    "        if self.reduction_op is not None:\n",
    "            return self.reduction_op(loss)\n",
    "        else:\n",
    "            return loss"
   ]
  },
  {
   "cell_type": "code",
   "execution_count": 3,
   "metadata": {},
   "outputs": [],
   "source": [
    "def onehot(tensor, num_classes):    \n",
    "    tensor = tensor.unsqueeze(1)\n",
    "    onehot = torch.zeros(tensor.size(0), num_classes, *tensor.size()[2:])\n",
    "    onehot.scatter_(1, tensor, 1)\n",
    "    \n",
    "    return onehot"
   ]
  },
  {
   "cell_type": "code",
   "execution_count": 4,
   "metadata": {},
   "outputs": [
    {
     "name": "stdout",
     "output_type": "stream",
     "text": [
      "Target:\n",
      " tensor([1])\n",
      "Model out:\n",
      " tensor([[-100.,  100., -100.,  -50.]])\n",
      "Loss:\n",
      " tensor(-1.0000)\n"
     ]
    }
   ],
   "source": [
    "loss = DiceLoss()\n",
    "\n",
    "target = torch.Tensor([1]).long()\n",
    "out = torch.Tensor([[-100, 100, -100, -50]]).float()\n",
    "print(\"Target:\\n\", target)\n",
    "print(\"Model out:\\n\", out)\n",
    "print(\"Loss:\\n\", loss.forward(out, target))"
   ]
  },
  {
   "cell_type": "code",
   "execution_count": 5,
   "metadata": {},
   "outputs": [
    {
     "name": "stdout",
     "output_type": "stream",
     "text": [
      "Target:\n",
      " tensor([1, 0, 0])\n",
      "Model out:\n",
      " tensor([[-100.,  100., -100.,  -50.],\n",
      "        [-100., -100., -100.,   50.],\n",
      "        [ 100., -100., -100.,  -50.]])\n",
      "Loss:\n",
      " tensor(-0.6667)\n"
     ]
    }
   ],
   "source": [
    "target = torch.Tensor([1, 0, 0]).long()\n",
    "out = torch.Tensor([[-100, 100, -100, -50], [-100, -100, -100, 50], [100, -100, -100, -50]]).float()\n",
    "print(\"Target:\\n\", target)\n",
    "print(\"Model out:\\n\", out)\n",
    "print(\"Loss:\\n\", loss.forward(out, target))"
   ]
  },
  {
   "cell_type": "code",
   "execution_count": 6,
   "metadata": {},
   "outputs": [
    {
     "name": "stdout",
     "output_type": "stream",
     "text": [
      "Target:\n",
      " torch.Size([2, 5, 5])\n",
      "Model out:\n",
      " torch.Size([2, 3, 5, 5])\n",
      "Loss:\n",
      " tensor(-0.2780)\n"
     ]
    }
   ],
   "source": [
    "target = torch.randint(3, (2, 5, 5)).long()\n",
    "out = torch.randint(3, (2, 5, 5)).long()\n",
    "out = onehot(out, 3) * 100\n",
    "print(\"Target:\\n\", target.size())\n",
    "print(\"Model out:\\n\", out.size())\n",
    "print(\"Loss:\\n\", loss.forward(out, target))"
   ]
  },
  {
   "cell_type": "code",
   "execution_count": 7,
   "metadata": {},
   "outputs": [
    {
     "name": "stdout",
     "output_type": "stream",
     "text": [
      "Target:\n",
      " torch.Size([2, 5, 5])\n",
      "Model out:\n",
      " torch.Size([2, 3, 5, 5])\n",
      "Loss:\n",
      " tensor(-1.0000)\n"
     ]
    }
   ],
   "source": [
    "target = torch.randint(3, (2, 5, 5)).long()\n",
    "out = onehot(target, 3).float() * 100\n",
    "print(\"Target:\\n\", target.size())\n",
    "print(\"Model out:\\n\", out.size())\n",
    "print(\"Loss:\\n\", loss.forward(out, target))"
   ]
  },
  {
   "cell_type": "code",
   "execution_count": 11,
   "metadata": {},
   "outputs": [
    {
     "name": "stdout",
     "output_type": "stream",
     "text": [
      "The slowest run took 282.25 times longer than the fastest. This could mean that an intermediate result is being cached.\n",
      "8.76 ms ± 7.48 ms per loop (mean ± std. dev. of 7 runs, 100 loops each)\n"
     ]
    }
   ],
   "source": [
    "target = torch.randint(3, (2, 5, 5)).long()\n",
    "out = onehot(target, 3).float() * 100\n",
    "%timeit loss.forward(out, target)"
   ]
  },
  {
   "cell_type": "code",
   "execution_count": null,
   "metadata": {},
   "outputs": [],
   "source": []
  }
 ],
 "metadata": {
  "kernelspec": {
   "display_name": "Airbus",
   "language": "python",
   "name": "airbus-env"
  },
  "language_info": {
   "codemirror_mode": {
    "name": "ipython",
    "version": 3
   },
   "file_extension": ".py",
   "mimetype": "text/x-python",
   "name": "python",
   "nbconvert_exporter": "python",
   "pygments_lexer": "ipython3",
   "version": "3.6.6"
  }
 },
 "nbformat": 4,
 "nbformat_minor": 2
}
